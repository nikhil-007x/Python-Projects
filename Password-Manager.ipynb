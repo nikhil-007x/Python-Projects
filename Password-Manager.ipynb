{
 "cells": [
  {
   "cell_type": "code",
   "execution_count": 7,
   "id": "96fc2914",
   "metadata": {},
   "outputs": [
    {
     "name": "stdout",
     "output_type": "stream",
     "text": [
      "<cryptography.fernet.Fernet object at 0x000001BEBC9B77D0>\n"
     ]
    }
   ],
   "source": [
    "from cryptography.fernet import Fernet\n",
    "\n",
    "# def write_key():\n",
    "#     key = Fernet.generate_key()\n",
    "#     with open(\"key.key\",\"wb\") as key_file:\n",
    "#         key_file.write(key)\n",
    "\n",
    "def load_key():\n",
    "    with open(\"key.key\",\"rb\") as file:\n",
    "        key = file.read()\n",
    "        return key\n",
    "key = load_key()\n",
    "fer = Fernet(key)\n",
    "print(fer)\n",
    "# write_key()\n"
   ]
  },
  {
   "cell_type": "code",
   "execution_count": null,
   "id": "458d71db",
   "metadata": {},
   "outputs": [
    {
     "name": "stdout",
     "output_type": "stream",
     "text": [
      "User: nikhil | Password: 123abc\n",
      "User: nikhil | Password: 123abc\n"
     ]
    }
   ],
   "source": [
    "from cryptography.fernet import Fernet\n",
    "\n",
    "'''       run 1 time and comment it\n",
    "def write_key():\n",
    "    key = Fernet.generate_key()\n",
    "    with open(\"key.key\", \"wb\") as key_file:\n",
    "        key_file.write(key)'''\n",
    "\n",
    "\n",
    "def load_key():\n",
    "    file = open(\"key.key\", \"rb\")\n",
    "    key = file.read()\n",
    "    file.close()\n",
    "    return key\n",
    "\n",
    "\n",
    "key = load_key()\n",
    "fer = Fernet(key)\n",
    "\n",
    "\n",
    "def view():\n",
    "    with open('passwords.txt', 'r') as f:\n",
    "        for line in f.readlines():\n",
    "            data = line.rstrip()\n",
    "            user, passw = data.split(\"|\")\n",
    "            print(\"User:\", user, \"| Password:\",\n",
    "                  fer.decrypt(passw.encode()).decode())\n",
    "\n",
    "\n",
    "def add():\n",
    "    name = input('Account Name: ')\n",
    "    pwd = input(\"Password: \")\n",
    "\n",
    "    with open('passwords.txt', 'a') as f:\n",
    "        f.write(name + \"|\" + fer.encrypt(pwd.encode()).decode() + \"\\n\")\n",
    "\n",
    "\n",
    "while True:\n",
    "    mode = input(\n",
    "        \"Would you like to add a new password or view existing ones (view, add), press q to quit? \").lower()\n",
    "    if mode == \"q\":\n",
    "        break\n",
    "\n",
    "    if mode == \"view\":\n",
    "        view()\n",
    "    elif mode == \"add\":\n",
    "        add()\n",
    "    else:\n",
    "        print(\"Invalid mode.\")\n",
    "        continue"
   ]
  },
  {
   "cell_type": "code",
   "execution_count": null,
   "id": "5243adb1",
   "metadata": {},
   "outputs": [
    {
     "name": "stderr",
     "output_type": "stream",
     "text": [
      "ERROR: Could not find a version that satisfies the requirement tkinter (from versions: none)\n",
      "ERROR: No matching distribution found for tkinter\n"
     ]
    }
   ],
   "source": []
  },
  {
   "cell_type": "code",
   "execution_count": null,
   "id": "ec6d1bd8",
   "metadata": {},
   "outputs": [],
   "source": []
  }
 ],
 "metadata": {
  "kernelspec": {
   "display_name": "Python 3",
   "language": "python",
   "name": "python3"
  },
  "language_info": {
   "codemirror_mode": {
    "name": "ipython",
    "version": 3
   },
   "file_extension": ".py",
   "mimetype": "text/x-python",
   "name": "python",
   "nbconvert_exporter": "python",
   "pygments_lexer": "ipython3",
   "version": "3.11.9"
  }
 },
 "nbformat": 4,
 "nbformat_minor": 5
}
